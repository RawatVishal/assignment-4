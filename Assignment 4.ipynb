{
 "cells": [
  {
   "cell_type": "markdown",
   "id": "218fbec4",
   "metadata": {},
   "source": [
    "Assignment-4"
   ]
  },
  {
   "cell_type": "code",
   "execution_count": 2,
   "id": "99c0c372",
   "metadata": {},
   "outputs": [
    {
     "name": "stdout",
     "output_type": "stream",
     "text": [
      "[]\n"
     ]
    },
    {
     "data": {
      "text/plain": [
       "list"
      ]
     },
     "execution_count": 2,
     "metadata": {},
     "output_type": "execute_result"
    }
   ],
   "source": [
    "#Q1\n",
    "#Answer= [] is an empty list and it does not hold any values inside it .\n",
    "a =[]\n",
    "print(a)\n",
    "type(a)"
   ]
  },
  {
   "cell_type": "code",
   "execution_count": 3,
   "id": "f11d7bac",
   "metadata": {},
   "outputs": [
    {
     "name": "stdout",
     "output_type": "stream",
     "text": [
      "[2, 4, 'hello', 8, 10]\n"
     ]
    }
   ],
   "source": [
    "#Q2\n",
    "spam = [2,4,6,8,10]\n",
    "spam[2]=\"hello\"\n",
    "print(spam)"
   ]
  },
  {
   "cell_type": "code",
   "execution_count": 4,
   "id": "3f57d551",
   "metadata": {},
   "outputs": [
    {
     "data": {
      "text/plain": [
       "'d'"
      ]
     },
     "execution_count": 4,
     "metadata": {},
     "output_type": "execute_result"
    }
   ],
   "source": [
    "#Q3\n",
    "spam = ['a','b','c','d']\n",
    "spam[int(int('3'*2)/11)] # '3'*2=33 and 33/11=3 thats why it will 'd' as the output\n"
   ]
  },
  {
   "cell_type": "code",
   "execution_count": 7,
   "id": "fe86f77e",
   "metadata": {},
   "outputs": [
    {
     "data": {
      "text/plain": [
       "'d'"
      ]
     },
     "execution_count": 7,
     "metadata": {},
     "output_type": "execute_result"
    }
   ],
   "source": [
    "#Q4\n",
    "spam = ['a','b','c','d']\n",
    "spam[-1]"
   ]
  },
  {
   "cell_type": "code",
   "execution_count": 8,
   "id": "c2b98d48",
   "metadata": {},
   "outputs": [
    {
     "data": {
      "text/plain": [
       "['a', 'b']"
      ]
     },
     "execution_count": 8,
     "metadata": {},
     "output_type": "execute_result"
    }
   ],
   "source": [
    "#Q5\n",
    "spam = ['a','b','c','d']\n",
    "spam[:2]"
   ]
  },
  {
   "cell_type": "code",
   "execution_count": 9,
   "id": "9f5aa5a9",
   "metadata": {},
   "outputs": [
    {
     "data": {
      "text/plain": [
       "1"
      ]
     },
     "execution_count": 9,
     "metadata": {},
     "output_type": "execute_result"
    }
   ],
   "source": [
    "#Q6\n",
    "bacon=[3.14,'cat',11,'cat',True]\n",
    "bacon.index('cat') # as cat is present here two times so it will give lowest index number "
   ]
  },
  {
   "cell_type": "code",
   "execution_count": 11,
   "id": "b69480de",
   "metadata": {},
   "outputs": [
    {
     "name": "stdout",
     "output_type": "stream",
     "text": [
      "[3.14, 'cat', 11, 'cat', True, 99]\n"
     ]
    }
   ],
   "source": [
    "#Q7\n",
    "bacon=[3.14,'cat',11,'cat',True]\n",
    "bacon.append(99) # append is used to add the element at the end of the list\n",
    "print(bacon)"
   ]
  },
  {
   "cell_type": "code",
   "execution_count": 12,
   "id": "ab501bb2",
   "metadata": {},
   "outputs": [
    {
     "name": "stdout",
     "output_type": "stream",
     "text": [
      "[3.14, 11, 'cat', True]\n"
     ]
    }
   ],
   "source": [
    "#Q8\n",
    "bacon=[3.14,'cat',11,'cat',True]\n",
    "bacon.remove('cat') #remove is used to eliminate the lowest index 'cat' as it is repeated in the list\n",
    "print(bacon)"
   ]
  },
  {
   "cell_type": "code",
   "execution_count": 15,
   "id": "4ad0f774",
   "metadata": {},
   "outputs": [
    {
     "name": "stdout",
     "output_type": "stream",
     "text": [
      "[1, 2, 3, 4, 5, 'dog', False, 5, 6, 7, 8, False, 'cat']\n",
      "[1, 2, 3, 4, 5, 'dog', False, 1, 2, 3, 4, 5, 'dog', False, 1, 2, 3, 4, 5, 'dog', False]\n"
     ]
    }
   ],
   "source": [
    "#Q9\n",
    "l=[1,2,3,4,5,'dog',False] # here we make a list in the name of l\n",
    "l1=[5,6,7,8,False,'cat']\n",
    "l2 = l+l1 #here we concatenate two list l and l1 and make it a new list with the hepl of (+) operator\n",
    "print(l2)\n",
    "\n",
    "l3 = l*3 # here we replicate l three times with the help of (*) operator\n",
    "print(l3)"
   ]
  },
  {
   "cell_type": "code",
   "execution_count": 19,
   "id": "ec16a0bb",
   "metadata": {},
   "outputs": [
    {
     "name": "stdout",
     "output_type": "stream",
     "text": [
      "['a', 'v', 'r', 65, 99846, 'kumar']\n",
      "['a', 'v', 'sudhanshu', 'r', 65, 99846, 'kumar']\n"
     ]
    }
   ],
   "source": [
    "#Q10\n",
    "#here we make a list and we insert and append operation\n",
    "l=['a','v','r',65,99846]\n",
    "l.append('kumar') #here append used to add the value at the end of the list \n",
    "print(l)\n",
    "l.insert(2,\"sudhanshu\") # here we use insert operation which can be used to put a value at a specific index \n",
    "print(l)"
   ]
  },
  {
   "cell_type": "code",
   "execution_count": 21,
   "id": "920432fd",
   "metadata": {},
   "outputs": [
    {
     "name": "stdout",
     "output_type": "stream",
     "text": [
      "['a', 'v', 'r', 99846]\n",
      "r\n",
      "['a', 'v', 99846]\n"
     ]
    }
   ],
   "source": [
    "#Q11\n",
    "l=['a','v','r',65,99846]\n",
    "l.remove(65) #remove function is used to remove the element from the list here we write what you want to remove and if there any repetion of any value then it will remove the first occurence\n",
    "print(l)\n",
    "a=l.pop(2) #we remove 'r' using pop function \n",
    "print(a)\n",
    "print(l)"
   ]
  },
  {
   "cell_type": "code",
   "execution_count": 22,
   "id": "61da8acb",
   "metadata": {},
   "outputs": [],
   "source": [
    "#Q12\n",
    "#list is a sequential collection of data value, where each value is known by a index number. Lists are similar to strings,are ordered collections of characters, except that the elements of a list can have any type and for any one list, the items can be of different types"
   ]
  },
  {
   "cell_type": "code",
   "execution_count": 23,
   "id": "28e293bf",
   "metadata": {},
   "outputs": [],
   "source": [
    "#Q13\n",
    "# list and tuple both contain values of different data types but list is dynamic in nature and tuple is static in nature thats why operation in tuple is faster than list . "
   ]
  },
  {
   "cell_type": "code",
   "execution_count": 26,
   "id": "ca6455fc",
   "metadata": {},
   "outputs": [
    {
     "data": {
      "text/plain": [
       "tuple"
      ]
     },
     "execution_count": 26,
     "metadata": {},
     "output_type": "execute_result"
    }
   ],
   "source": [
    "#Q14\n",
    "l=['a','b',('42'),'vishal',True]\n",
    "a=tuple(('42'))\n",
    "type(a)"
   ]
  },
  {
   "cell_type": "code",
   "execution_count": 29,
   "id": "37db4281",
   "metadata": {},
   "outputs": [
    {
     "name": "stdout",
     "output_type": "stream",
     "text": [
      "['a', 'b', 'c']\n",
      "('a', 'b', 'c')\n"
     ]
    }
   ],
   "source": [
    "#Q15\n",
    "a = [1,2,3,4,'sudh','kumar',('a','b','c')]\n",
    "print(list(('a','b','c')))\n",
    "b=[1,2,3,4,['a','b','c'],True]\n",
    "print(tuple(['a','b','c']))"
   ]
  },
  {
   "cell_type": "code",
   "execution_count": 30,
   "id": "8fe54eaa",
   "metadata": {},
   "outputs": [],
   "source": [
    "#Q16\n",
    "#they contain reference to list values "
   ]
  },
  {
   "cell_type": "code",
   "execution_count": 31,
   "id": "020be476",
   "metadata": {},
   "outputs": [],
   "source": [
    "#Q17\n",
    "#copy.copy() will do shallow copy of the list and it takes lesser time to copy alist \n",
    "#copy.deepcopy() will do a deep copy of the list and it will take more time than .copy()"
   ]
  },
  {
   "cell_type": "code",
   "execution_count": null,
   "id": "ee761942",
   "metadata": {},
   "outputs": [],
   "source": []
  }
 ],
 "metadata": {
  "kernelspec": {
   "display_name": "Python 3 (ipykernel)",
   "language": "python",
   "name": "python3"
  },
  "language_info": {
   "codemirror_mode": {
    "name": "ipython",
    "version": 3
   },
   "file_extension": ".py",
   "mimetype": "text/x-python",
   "name": "python",
   "nbconvert_exporter": "python",
   "pygments_lexer": "ipython3",
   "version": "3.9.7"
  }
 },
 "nbformat": 4,
 "nbformat_minor": 5
}
